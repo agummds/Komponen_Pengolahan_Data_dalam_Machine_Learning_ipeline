{
  "nbformat": 4,
  "nbformat_minor": 0,
  "metadata": {
    "colab": {
      "provenance": []
    },
    "kernelspec": {
      "name": "python3",
      "display_name": "Python 3"
    },
    "language_info": {
      "name": "python"
    }
  },
  "cells": [
    {
      "cell_type": "code",
      "execution_count": 1,
      "metadata": {
        "colab": {
          "base_uri": "https://localhost:8080/"
        },
        "id": "W72x5sZrWbbq",
        "outputId": "763080c0-13a1-4930-fe60-07927b6b5e51"
      },
      "outputs": [
        {
          "output_type": "stream",
          "name": "stdout",
          "text": [
            "Cloning into 'a443-MLOps'...\n",
            "remote: Enumerating objects: 208, done.\u001b[K\n",
            "remote: Counting objects: 100% (208/208), done.\u001b[K\n",
            "remote: Compressing objects: 100% (140/140), done.\u001b[K\n",
            "remote: Total 208 (delta 69), reused 176 (delta 47), pack-reused 0\u001b[K\n",
            "Receiving objects: 100% (208/208), 8.54 MiB | 27.08 MiB/s, done.\n",
            "Resolving deltas: 100% (69/69), done.\n"
          ]
        }
      ],
      "source": [
        "!git clone https://github.com/dicodingacademy/a443-MLOps.git"
      ]
    },
    {
      "cell_type": "code",
      "source": [
        "!pip install numpy pandas scipy jupyter scikit-learn tensorflow tfx==1.7.1 flask joblib"
      ],
      "metadata": {
        "colab": {
          "base_uri": "https://localhost:8080/"
        },
        "id": "ztb7xUpmYnnI",
        "outputId": "3ce925f0-999b-4fe1-9b33-095a534001d3"
      },
      "execution_count": 14,
      "outputs": [
        {
          "output_type": "stream",
          "name": "stdout",
          "text": [
            "Requirement already satisfied: numpy in /usr/local/lib/python3.10/dist-packages (1.25.2)\n",
            "Requirement already satisfied: pandas in /usr/local/lib/python3.10/dist-packages (1.5.3)\n",
            "Requirement already satisfied: scipy in /usr/local/lib/python3.10/dist-packages (1.11.4)\n",
            "Collecting jupyter\n",
            "  Downloading jupyter-1.0.0-py2.py3-none-any.whl (2.7 kB)\n",
            "Requirement already satisfied: scikit-learn in /usr/local/lib/python3.10/dist-packages (1.2.2)\n",
            "Requirement already satisfied: tensorflow in /usr/local/lib/python3.10/dist-packages (2.15.0)\n",
            "\u001b[31mERROR: Ignored the following versions that require a different python version: 0.12.0rc0 Requires-Python >=2.7,<3; 0.24.0 Requires-Python >=3.6,<3.9; 0.24.0rc0 Requires-Python >=3.6,<3.9; 0.24.0rc1 Requires-Python >=3.6,<3.9; 0.24.1 Requires-Python >=3.6,<3.9; 0.25.0 Requires-Python >=3.6,<3.9; 0.25.0rc0 Requires-Python >=3.6,<3.9; 0.25.0rc1 Requires-Python >=3.6,<3.9; 0.25.0rc2 Requires-Python >=3.6,<3.9; 0.26.0 Requires-Python >=3.6,<3.9; 0.26.0rc0 Requires-Python >=3.6,<3.9; 0.26.1 Requires-Python >=3.6,<3.9; 0.26.3 Requires-Python >=3.6,<3.9; 0.26.4 Requires-Python >=3.6,<3.9; 0.27.0 Requires-Python >=3.6,<3.9; 0.27.0rc0 Requires-Python >=3.6,<3.9; 0.28.0 Requires-Python >=3.6,<3.9; 0.28.0rc0 Requires-Python >=3.6,<3.9; 0.29.0 Requires-Python >=3.6,<3.9; 0.29.0rc0 Requires-Python >=3.6,<3.9; 0.30.0 Requires-Python >=3.6,<3.9; 0.30.0rc0 Requires-Python >=3.6,<3.9; 0.30.1 Requires-Python >=3.6,<3.9; 0.30.2 Requires-Python >=3.6,<3.9; 1.0.0 Requires-Python >=3.6,<3.9; 1.0.0rc0 Requires-Python >=3.6,<3.9; 1.0.0rc1 Requires-Python >=3.6,<3.9; 1.0.0rc2 Requires-Python >=3.6,<3.9; 1.10.0 Requires-Python >=3.7,<3.10; 1.10.0rc0 Requires-Python >=3.7,<3.10; 1.11.0 Requires-Python >=3.7,<3.10; 1.11.0rc0 Requires-Python >=3.7,<3.10; 1.12.0 Requires-Python >=3.7,<3.10; 1.12.0rc0 Requires-Python >=3.7,<3.10; 1.13.0 Requires-Python >=3.8,<3.10; 1.13.0rc0 Requires-Python >=3.8,<3.10; 1.2.0 Requires-Python >=3.6,<3.9; 1.2.0rc0 Requires-Python >=3.6,<3.9; 1.2.1 Requires-Python >=3.6,<3.9; 1.3.0 Requires-Python >=3.6,<3.9; 1.3.0rc0 Requires-Python >=3.6,<3.9; 1.3.1 Requires-Python >=3.6,<3.9; 1.3.2 Requires-Python >=3.6,<3.9; 1.3.3 Requires-Python >=3.6,<3.9; 1.3.4 Requires-Python >=3.6,<3.9; 1.4.0 Requires-Python >=3.7,<3.9; 1.4.0rc0 Requires-Python >=3.7,<3.9; 1.4.1 Requires-Python >=3.7,<3.9; 1.5.0 Requires-Python >=3.7,<3.9; 1.5.0rc0 Requires-Python >=3.7,<3.9; 1.5.1 Requires-Python >=3.7,<3.9; 1.6.0 Requires-Python >=3.7,<3.9; 1.6.0rc0 Requires-Python >=3.7,<3.9; 1.6.1 Requires-Python >=3.7,<3.9; 1.6.2 Requires-Python >=3.7,<3.9; 1.7.0 Requires-Python >=3.7,<3.9; 1.7.0rc0 Requires-Python >=3.7,<3.9; 1.7.1 Requires-Python >=3.7,<3.9; 1.7.2 Requires-Python >=3.7,<3.9; 1.8.0 Requires-Python >=3.7,<3.10; 1.8.0rc0 Requires-Python >=3.7,<3.10; 1.8.0rc1 Requires-Python >=3.7,<3.10; 1.8.1 Requires-Python >=3.7,<3.10; 1.9.0 Requires-Python >=3.7,<3.10; 1.9.0rc0 Requires-Python >=3.7,<3.10; 1.9.1 Requires-Python >=3.7,<3.10\u001b[0m\u001b[31m\n",
            "\u001b[0m\u001b[31mERROR: Could not find a version that satisfies the requirement tfx==1.7.1 (from versions: 0.13.0rc0, 0.13.0rc1, 0.13.0rc2, 0.13.0, 0.14.0rc1, 0.14.0, 0.15.0rc0, 0.15.0, 0.21.0rc0, 0.21.0, 0.21.1, 0.21.2, 0.21.3, 0.21.4, 0.21.5, 0.22.0rc0, 0.22.0, 0.22.1rc1, 0.22.1, 0.22.2, 0.23.0rc0, 0.23.0, 0.23.1, 1.14.0rc0, 1.14.0)\u001b[0m\u001b[31m\n",
            "\u001b[0m\u001b[31mERROR: No matching distribution found for tfx==1.7.1\u001b[0m\u001b[31m\n",
            "\u001b[0m"
          ]
        }
      ]
    },
    {
      "cell_type": "code",
      "source": [
        "import json\n",
        "import numpy as np\n",
        "import tensorflow as tf\n",
        "from flask import Flask, request"
      ],
      "metadata": {
        "id": "BVfhuHylW1aL"
      },
      "execution_count": 2,
      "outputs": []
    },
    {
      "cell_type": "code",
      "source": [
        "app = Flask(__name__)"
      ],
      "metadata": {
        "id": "Q2HbWSGKW7P5"
      },
      "execution_count": 3,
      "outputs": []
    },
    {
      "cell_type": "code",
      "source": [
        "@app.route(\"/\")\n",
        "def hello_world():\n",
        "    return \"Hello, World!\""
      ],
      "metadata": {
        "id": "etchU-_zW-MT"
      },
      "execution_count": 4,
      "outputs": []
    },
    {
      "cell_type": "code",
      "source": [
        "MODEL_PATH = \"/content/a443-MLOps/latihan_model_serving_flask/solution/fashion-mnist\"\n",
        "model = tf.keras.models.load_model(MODEL_PATH)"
      ],
      "metadata": {
        "id": "9thaESy-X-Yx"
      },
      "execution_count": 9,
      "outputs": []
    },
    {
      "cell_type": "code",
      "source": [
        "def data_preprocessing(image):\n",
        "    image = np.array(image) / 255.0\n",
        "    image = (np.expand_dims(image, 0))\n",
        "    return image"
      ],
      "metadata": {
        "id": "N88JyISTYIZb"
      },
      "execution_count": 10,
      "outputs": []
    },
    {
      "cell_type": "code",
      "source": [
        "@app.route(\"/predict\", methods=[\"POST\"])\n",
        "\n",
        "def predict():\n",
        "    request_json = request.json\n",
        "    image = data_preprocessing(request_json.get(\"data\"))\n",
        "\n",
        "    prediction = model.predict(image)\n",
        "    prediction = tf.argmax(prediction[0]).numpy()\n",
        "\n",
        "    class_names = [\n",
        "        'T-shirt/top', 'Trouser', 'Pullover', 'Dress',\n",
        "        'Coat', 'Sandal', 'Shirt', 'Sneaker', 'Bag', 'Ankle boot'\n",
        "    ]\n",
        "\n",
        "    response_json = {\n",
        "        \"prediction\": class_names[prediction]\n",
        "    }\n",
        "\n",
        "    return json.dumps(response_json)"
      ],
      "metadata": {
        "id": "6zCyFVFXYLJI"
      },
      "execution_count": 16,
      "outputs": []
    }
  ]
}